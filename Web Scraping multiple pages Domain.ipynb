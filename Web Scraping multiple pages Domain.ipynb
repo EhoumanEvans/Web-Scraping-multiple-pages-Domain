{
 "cells": [
  {
   "cell_type": "code",
   "execution_count": null,
   "metadata": {},
   "outputs": [],
   "source": [
    "library(rvest)\n",
    "library(purrr)\n",
    "library(xml2)\n",
    "library(dplyr)\n",
    "library(stringr)"
   ]
  },
  {
   "cell_type": "code",
   "execution_count": null,
   "metadata": {},
   "outputs": [],
   "source": [
    "url <- \"https://www.domain.com.au/sale/adelaide-sa-5000/?excludeunderoffer=1&page=%d\""
   ]
  },
  {
   "cell_type": "code",
   "execution_count": null,
   "metadata": {},
   "outputs": [],
   "source": [
    "# Scraping core listing (Address, Price, Type, and Link)\n",
    "\n",
    "map_df(1:4, function(i){\n",
    "  \n",
    "  #Cat(\".\")\n",
    "  page <- read_html(sprintf(url,i))\n",
    "  \n",
    "  data.frame(Address = html_text(html_nodes(page, \".listing-result__address\")),\n",
    "             Price = html_text(html_nodes(page, \".listing-result__price\")),\n",
    "             Type = html_text(html_nodes(page, \".listing-result__property-type\")),\n",
    "             Link = html_attr(html_nodes(page, \"[itemprop='url']\"), \"href\"),\n",
    "             stringsAsFactors = FALSE)\n",
    "  \n",
    "}) -> domain"
   ]
  },
  {
   "cell_type": "code",
   "execution_count": null,
   "metadata": {},
   "outputs": [],
   "source": [
    "# Check domain\n",
    "\n",
    "glimpse(domain)\n",
    "domain"
   ]
  },
  {
   "cell_type": "code",
   "execution_count": null,
   "metadata": {},
   "outputs": [],
   "source": [
    "# Checking and deleting field that are not addresses\n",
    "\n",
    "domain <- domain[-c(1, 21, 41, 61), ]"
   ]
  },
  {
   "cell_type": "code",
   "execution_count": null,
   "metadata": {},
   "outputs": [],
   "source": [
    "# Check domain again\n",
    "\n",
    "glimpse(domain)\n",
    "domain"
   ]
  },
  {
   "cell_type": "code",
   "execution_count": null,
   "metadata": {},
   "outputs": [],
   "source": [
    "# Obtaining home features\n",
    "\n",
    "map_df(1:4, function(i){\n",
    "  \n",
    "  #Cat(\".\")\n",
    "  page <- read_html(sprintf(url,i))\n",
    "  \n",
    "  data.frame(Feature = html_text(html_nodes(page, \".listing-result__features\")),\n",
    "             stringsAsFactors = FALSE)\n",
    "  \n",
    "}) -> d_feature"
   ]
  },
  {
   "cell_type": "code",
   "execution_count": null,
   "metadata": {
    "scrolled": true
   },
   "outputs": [],
   "source": [
    "# Check d_feature\n",
    "\n",
    "glimpse(d_feature)\n",
    "d_feature"
   ]
  },
  {
   "cell_type": "code",
   "execution_count": null,
   "metadata": {
    "scrolled": true
   },
   "outputs": [],
   "source": [
    "# Remove unwanted rows\n",
    "\n",
    "d_feature <- d_feature[-c(1, 2, 3, 4, 5, 25, 45, 65), ]\n",
    "d_feature <- as.data.frame(d_feature)\n",
    "colnames(d_feature) <- \"Feature\""
   ]
  },
  {
   "cell_type": "code",
   "execution_count": null,
   "metadata": {},
   "outputs": [],
   "source": [
    "# Check d_feature again\n",
    "\n",
    "glimpse(d_feature)\n",
    "d_feature"
   ]
  },
  {
   "cell_type": "code",
   "execution_count": null,
   "metadata": {},
   "outputs": [],
   "source": [
    "# Combine feature to rest of domain data\n",
    "\n",
    "domain <- cbind(domain, d_feature)"
   ]
  },
  {
   "cell_type": "code",
   "execution_count": null,
   "metadata": {},
   "outputs": [],
   "source": [
    "# Check domain\n",
    "\n",
    "glimpse(domain)\n",
    "domain"
   ]
  },
  {
   "cell_type": "code",
   "execution_count": null,
   "metadata": {},
   "outputs": [],
   "source": [
    "# Extract and create Bedroom variable\n",
    "\n",
    "bd <- substr(d_feature$Feature, 1, 6) \n",
    "bd <- substr(bd, 1, 1)\n",
    "bd"
   ]
  },
  {
   "cell_type": "code",
   "execution_count": null,
   "metadata": {},
   "outputs": [],
   "source": [
    "# Extract and create Bathroom varible\n",
    "\n",
    "ba <- substr(d_feature$Feature, 6, 12)\n",
    "ba <- str_remove(ba, \"s\")\n",
    "ba <- substr(ba, 1, 1)\n",
    "ba <- str_replace(ba, \" \", \"-\")\n",
    "ba"
   ]
  },
  {
   "cell_type": "code",
   "execution_count": null,
   "metadata": {},
   "outputs": [],
   "source": [
    "# Extract and create Parking varible\n",
    "\n",
    "park <- substr(d_feature$Feature, 12, regexpr(\"g\", d_feature$Feature))\n",
    "park <- str_remove(park, \" Parking\")\n",
    "park <- str_remove(park, \"hs\")\n",
    "park <- substr(park, 1, 2)\n",
    "park <- str_remove(park, \"h\")\n",
    "park <- str_replace(park, \"at\", \"-\")\n",
    "park <- str_remove(park, \" \")\n",
    "park"
   ]
  },
  {
   "cell_type": "code",
   "execution_count": null,
   "metadata": {},
   "outputs": [],
   "source": [
    "# Bind data to core data\n",
    "\n",
    "data <- cbind(domain, bd, ba, park)"
   ]
  },
  {
   "cell_type": "code",
   "execution_count": null,
   "metadata": {},
   "outputs": [],
   "source": [
    "# Take a look at final data\n",
    "\n",
    "glimpse(data)\n",
    "data"
   ]
  },
  {
   "cell_type": "code",
   "execution_count": null,
   "metadata": {},
   "outputs": [],
   "source": [
    "# Export data to csv\n",
    "\n",
    "write.csv(data, 'domain.csv')"
   ]
  }
 ],
 "metadata": {
  "kernelspec": {
   "display_name": "R",
   "language": "R",
   "name": "ir"
  },
  "language_info": {
   "codemirror_mode": "r",
   "file_extension": ".r",
   "mimetype": "text/x-r-source",
   "name": "R",
   "pygments_lexer": "r",
   "version": "3.6.1"
  }
 },
 "nbformat": 4,
 "nbformat_minor": 2
}
